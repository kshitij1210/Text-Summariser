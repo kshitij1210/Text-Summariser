{
 "cells": [
  {
   "cell_type": "code",
   "execution_count": 1,
   "metadata": {},
   "outputs": [
    {
     "name": "stderr",
     "output_type": "stream",
     "text": [
      "Using TensorFlow backend.\n"
     ]
    }
   ],
   "source": [
    "from __future__ import print_function\n",
    "\n",
    "import pandas as pd\n",
    "from sklearn.model_selection import train_test_split\n",
    "from summarization_codes.library.utility.plot_utils import plot_and_save_history\n",
    "from summarization_codes.library.rnn import RecursiveRNN1\n",
    "from summarization_codes.library.applications.fake_news_loader import fit_text\n",
    "import numpy as np"
   ]
  },
  {
   "cell_type": "code",
   "execution_count": 2,
   "metadata": {
    "collapsed": true
   },
   "outputs": [],
   "source": [
    "LOAD_EXISTING_WEIGHTS = False"
   ]
  },
  {
   "cell_type": "code",
   "execution_count": 9,
   "metadata": {
    "collapsed": true
   },
   "outputs": [],
   "source": [
    "def main():\n",
    "    np.random.seed(42)\n",
    "    data_dir_path = './data'\n",
    "    report_dir_path = './reports'\n",
    "    model_dir_path = './models'\n",
    "\n",
    "    print('loading csv file ...')\n",
    "    df = pd.read_csv(data_dir_path + \"/fake_or_real_news.csv\")\n",
    "\n",
    "    # df = df.loc[df.index < 1000]\n",
    "\n",
    "    print('extract configuration from input texts ...')\n",
    "    Y = df.title\n",
    "    X = df['text']\n",
    "    config = fit_text(X, Y)\n",
    "\n",
    "    print('configuration extracted from input texts ...')\n",
    "\n",
    "    summarizer = RecursiveRNN1(config)\n",
    "\n",
    "    if LOAD_EXISTING_WEIGHTS:\n",
    "        weight_file_path = RecursiveRNN1.get_weight_file_path(model_dir_path=model_dir_path)\n",
    "        summarizer.load_weights(weight_file_path=weight_file_path)\n",
    "\n",
    "    Xtrain, Xtest, Ytrain, Ytest = train_test_split(X, Y, test_size=0.2, random_state=42)\n",
    "\n",
    "    print('demo size: ', len(Xtrain))\n",
    "    print('testing size: ', len(Xtest))\n",
    "\n",
    "    print('start fitting ...')\n",
    "    history = summarizer.fit(Xtrain, Ytrain, Xtest, Ytest, epochs=6)\n",
    "\n",
    "    history_plot_file_path = report_dir_path + '/' + RecursiveRNN1.model_name + '-history.png'\n",
    "    if LOAD_EXISTING_WEIGHTS:\n",
    "        history_plot_file_path = report_dir_path + '/' + RecursiveRNN1.model_name + '-history-v' + str(summarizer.version) + '.png'\n",
    "    plot_and_save_history(history, summarizer.model_name, history_plot_file_path, metrics={'loss', 'acc'})"
   ]
  },
  {
   "cell_type": "code",
   "execution_count": null,
   "metadata": {},
   "outputs": [],
   "source": [
    "if __name__ == '__main__':\n",
    "    main()"
   ]
  },
  {
   "cell_type": "code",
   "execution_count": null,
   "metadata": {
    "collapsed": true
   },
   "outputs": [],
   "source": []
  }
 ],
 "metadata": {
  "kernelspec": {
   "display_name": "Python 3",
   "language": "python",
   "name": "python3"
  },
  "language_info": {
   "codemirror_mode": {
    "name": "ipython",
    "version": 3
   },
   "file_extension": ".py",
   "mimetype": "text/x-python",
   "name": "python",
   "nbconvert_exporter": "python",
   "pygments_lexer": "ipython3",
   "version": "3.6.1"
  }
 },
 "nbformat": 4,
 "nbformat_minor": 2
}
