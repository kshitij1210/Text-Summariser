{
 "cells": [
  {
   "cell_type": "code",
   "execution_count": 1,
   "metadata": {},
   "outputs": [
    {
     "name": "stderr",
     "output_type": "stream",
     "text": [
      "Using TensorFlow backend.\n"
     ]
    }
   ],
   "source": [
    "from __future__ import print_function\n",
    "\n",
    "import pandas as pd\n",
    "from summarization_codes.library.rnn import RecursiveRNN1\n",
    "import numpy as np"
   ]
  },
  {
   "cell_type": "code",
   "execution_count": 2,
   "metadata": {
    "collapsed": true
   },
   "outputs": [],
   "source": [
    "def main():\n",
    "    np.random.seed(42)\n",
    "    data_dir_path = './data'\n",
    "    model_dir_path = './models'\n",
    "\n",
    "    print('loading csv file ...')\n",
    "    df = pd.read_csv(data_dir_path + \"/fake_or_real_news.csv\")\n",
    "    # df = df.loc[df.index < 1000]\n",
    "    X = df['text']\n",
    "    Y = df.title\n",
    "\n",
    "    config = np.load(RecursiveRNN1.get_config_file_path(model_dir_path=model_dir_path)).item()\n",
    "\n",
    "    summarizer = RecursiveRNN1(config)\n",
    "    summarizer.load_weights(weight_file_path=RecursiveRNN1.get_weight_file_path(model_dir_path=model_dir_path))\n",
    "\n",
    "    print('start predicting ...')\n",
    "    for i in np.random.permutation(np.arange(len(X)))[0:20]:\n",
    "        x = X[i]\n",
    "        actual_headline = Y[i]\n",
    "        headline = summarizer.summarize(x)\n",
    "        # print('Article: ', x)\n",
    "        print('Generated Headline: ', headline)\n",
    "        print('Original Headline: ', actual_headline)"
   ]
  },
  {
   "cell_type": "code",
   "execution_count": null,
   "metadata": {},
   "outputs": [],
   "source": [
    "if __name__ == '__main__':\n",
    "    main()"
   ]
  },
  {
   "cell_type": "code",
   "execution_count": null,
   "metadata": {
    "collapsed": true
   },
   "outputs": [],
   "source": []
  }
 ],
 "metadata": {
  "kernelspec": {
   "display_name": "Python 3",
   "language": "python",
   "name": "python3"
  },
  "language_info": {
   "codemirror_mode": {
    "name": "ipython",
    "version": 3
   },
   "file_extension": ".py",
   "mimetype": "text/x-python",
   "name": "python",
   "nbconvert_exporter": "python",
   "pygments_lexer": "ipython3",
   "version": "3.6.1"
  }
 },
 "nbformat": 4,
 "nbformat_minor": 2
}
